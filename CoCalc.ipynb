{
 "cells": [
  {
   "cell_type": "markdown",
   "metadata": {},
   "source": [
    "# CoCalc (Collaborative Calculation; free plan): https://cocalc.com/"
   ]
  },
  {
   "cell_type": "markdown",
   "metadata": {},
   "source": [
    "## Software compatibility \n",
    "- GitHub: incompatibile (couldn’t run notebooks directly from GitHub, or import a single notebook from GitHub)"
   ]
  },
  {
   "cell_type": "markdown",
   "metadata": {},
   "source": [
    "## User friendliness:\n",
    "- Configurations / traffic: \n",
    "    - 1-core shared CPU \n",
    "    - 1000MB of shared RAM\n",
    "    - 3000MB of disk space (per project). \n",
    "    - Sessions will shut down after 30 minutes of inactivity, though they can run for up to 24 hours.\n",
    "- Packages (https://cocalc.com/doc/software.html)\n",
    "    - additional packages: by request (not available for free plan)\n",
    "    - pre-installed for Python: https://cocalc.com/doc/software-python.html \n",
    "- Real-time collaboration: Yes\n",
    "- Shareable: Yes\n",
    "- Keep as a private file: Yes\n",
    "- Internet access: not available for a free plan\n",
    "- Shortcuts: 95% similar to Jupyter\n",
    "- Version Control: provides version control, “time travel”, with excellent functionality"
   ]
  },
  {
   "cell_type": "markdown",
   "metadata": {},
   "source": [
    "## Supporting languages (JupyterNotebook): \n",
    "\n",
    "using Linux terminal, CoCalc supports softwares:\n",
    "- Bash\n",
    "- C++\n",
    "- C++ 17\n",
    "- GP\n",
    "- Haskell\n",
    "- JavaScript\n",
    "- Octave\n",
    "- Prolog\n",
    "- Python 2&3\n",
    "- R\n",
    "- Sagemath\n",
    "- Singular\n",
    "- Sparql"
   ]
  },
  {
   "cell_type": "markdown",
   "metadata": {},
   "source": [
    "## Customizability (&ease) of the configuration file: \n",
    "- .ipynb\n",
    "- .txt\n",
    "- .html\n",
    "- .md\n",
    "- .rst\n",
    "- .tex\n",
    "- .pdf\n",
    "- .sagews\n",
    "- .asciidoc\n"
   ]
  },
  {
   "cell_type": "markdown",
   "metadata": {},
   "source": [
    "## Speed of deployment (descriptions from the official website): \n",
    "\n",
    "“It takes less time to run a Jupyter Notebook than grabbing a cup of coffee!” (Zero setup, web-browser based)"
   ]
  },
  {
   "cell_type": "markdown",
   "metadata": {},
   "source": [
    "## Configurations\n",
    "- Python Environments\n",
    "    - already installed: https://cocalc.com/doc/software-python.html\n",
    "    - request to install (only available for paid users): https://doc.cocalc.com/howto/install-python-lib.html\n",
    "### ML-predict-drugclass-master\n",
    "It is impossible to run the provided JupyterNotebook under the free plan, since half of the libraries are not installed. Intalling those libraries requires membership and installation requests."
   ]
  },
  {
   "cell_type": "code",
   "execution_count": null,
   "metadata": {},
   "outputs": [],
   "source": [
    "# able to import\n",
    "\n",
    "import os\n",
    "import random\n",
    "import time\n",
    "import warnings\n",
    "import numpy as np\n",
    "import pandas as pd\n",
    "import matplotlib.pyplot as plt\n",
    "\n",
    "from pprint import pprint\n",
    "from collections import Counter\n",
    "from concurrent import futures\n",
    "from IPython.core.display import Image\n",
    "from sklearn import preprocessing\n",
    "from sklearn.ensemble import RandomForestClassifier\n",
    "from sklearn.model_selection import train_test_split\n",
    "from sklearn import metrics\n",
    "from sklearn.metrics import balanced_accuracy_score\n",
    "from sklearn.metrics import plot_confusion_matrix"
   ]
  },
  {
   "cell_type": "code",
   "execution_count": null,
   "metadata": {},
   "outputs": [],
   "source": [
    "# need to request to install: rdkit, py3Dmol, mordred\n",
    "\n",
    "import py3Dmol\n",
    "\n",
    "from mordred import Calculator, descriptors\n",
    "from rdkit import DataStructs\n",
    "from rdkit import Chem\n",
    "from rdkit.Chem import AllChem, Draw, rdDepictor, PandasTools\n",
    "from rdkit.Chem.Draw import IPythonConsole\n",
    "from rdkit.Chem.Draw.MolDrawing import MolDrawing, DrawingOptions"
   ]
  },
  {
   "cell_type": "markdown",
   "metadata": {},
   "source": [
    "### ML-TC1-master\n",
    "Due to the limited capacity of RAM (1000 MB) and high requirements of CNN, the kernel crashed while running cell 19. <br> <br> \n",
    "<img src=\"kernel_killed.png\">"
   ]
  },
  {
   "cell_type": "code",
   "execution_count": null,
   "metadata": {},
   "outputs": [],
   "source": [
    "# able to import\n",
    "\n",
    "from __future__ import print_function\n",
    "import os, sys, gzip, glob, json, time, argparse\n",
    "import warnings\n",
    "warnings.simplefilter(action='ignore', category=FutureWarning)\n",
    "import pandas as pd\n",
    "from pandas.io.json import json_normalize\n",
    "import numpy as np\n",
    "\n",
    "from sklearn import preprocessing\n",
    "from sklearn.model_selection import train_test_split\n",
    "from sklearn.metrics import accuracy_score\n",
    "from sklearn.preprocessing import StandardScaler, MinMaxScaler, MaxAbsScaler\n",
    "from sklearn.preprocessing import LabelEncoder, OneHotEncoder\n",
    "\n",
    "from keras.utils import to_categorical\n",
    "from keras import backend as K\n",
    "from keras.layers import Input, Dense, Dropout, Activation, Conv1D, MaxPooling1D, Flatten\n",
    "from keras import optimizers\n",
    "from keras.optimizers import SGD, Adam, RMSprop\n",
    "from keras.models import Sequential, Model, model_from_json, model_from_yaml\n",
    "from keras.utils import np_utils\n",
    "from keras.callbacks import ModelCheckpoint, CSVLogger, ReduceLROnPlateau\n",
    "from keras.callbacks import EarlyStopping"
   ]
  },
  {
   "cell_type": "markdown",
   "metadata": {},
   "source": [
    "## Publications related to CoCalc\n",
    "\n",
    "- The CoCalc Wiki Pages (GitHub): https://github.com/sagemathinc/cocalc/wiki \n",
    "- Official:\n",
    " - User Manual: https://doc.cocalc.com/contents.html\n",
    " - Instructor guide: https://doc.cocalc.com/teaching-instructors.html\n",
    " - Student guide: https://doc.cocalc.com/teaching-students.html"
   ]
  },
  {
   "cell_type": "markdown",
   "metadata": {},
   "source": [
    "## How effective is it to use these cloud deployments for running a workshop/teaching? https://doc.cocalc.com/teaching-instructors.html \n",
    "\n",
    "- **Managed platform**: no time is wasted setting up, maintaining, backing up and securing a flaky platform. Instead, you can sleep while CoCalc ensures everything runs smoothly 24/7.\n",
    "- **Focus on helping students**: Jump right into a student’s file and assist via a chat on the side.\n",
    "- **Proven track record**: CoCalc has been used for teaching since 2013 in hundreds of courses by tens of thousands of students.\n",
    "Open source: CoCalc itself and every software it offers is open-source. Say good-bye to vendor lock-in, hidden licensing fees, and proprietary black boxes.\n",
    "- **Student work is isolated**: Each student does course work in a separate project."
   ]
  },
  {
   "cell_type": "markdown",
   "metadata": {},
   "source": [
    "# Summary\n",
    "\n",
    "Overall, I do not think CoCalc is an efficient and effective tool for teaching a Machine Learning workshop with following reasons:\n",
    "\n",
    "- Installing packages requires membership and is time-consuming.\n",
    "- CoCalc has relatively smaller shared RAM and Storage, running complex models (such as Convolutional neural network) will results in a killed kernel.\n",
    "\n",
    "Nevertheless, teaching more basic knowledge of Python is practical, with following available packages:\n",
    "- Python: https://cocalc.com/doc/software-python.html\n",
    "- R: https://cocalc.com/doc/software-r.html"
   ]
  }
 ],
 "metadata": {
  "kernelspec": {
   "display_name": "Python 3",
   "language": "python",
   "name": "python3"
  },
  "language_info": {
   "codemirror_mode": {
    "name": "ipython",
    "version": 3
   },
   "file_extension": ".py",
   "mimetype": "text/x-python",
   "name": "python",
   "nbconvert_exporter": "python",
   "pygments_lexer": "ipython3",
   "version": "3.7.6"
  },
  "toc": {
   "base_numbering": 1,
   "nav_menu": {},
   "number_sections": true,
   "sideBar": true,
   "skip_h1_title": false,
   "title_cell": "Table of Contents",
   "title_sidebar": "Contents",
   "toc_cell": false,
   "toc_position": {},
   "toc_section_display": true,
   "toc_window_display": false
  },
  "varInspector": {
   "cols": {
    "lenName": 16,
    "lenType": 16,
    "lenVar": 40
   },
   "kernels_config": {
    "python": {
     "delete_cmd_postfix": "",
     "delete_cmd_prefix": "del ",
     "library": "var_list.py",
     "varRefreshCmd": "print(var_dic_list())"
    },
    "r": {
     "delete_cmd_postfix": ") ",
     "delete_cmd_prefix": "rm(",
     "library": "var_list.r",
     "varRefreshCmd": "cat(var_dic_list()) "
    }
   },
   "types_to_exclude": [
    "module",
    "function",
    "builtin_function_or_method",
    "instance",
    "_Feature"
   ],
   "window_display": false
  }
 },
 "nbformat": 4,
 "nbformat_minor": 4
}
